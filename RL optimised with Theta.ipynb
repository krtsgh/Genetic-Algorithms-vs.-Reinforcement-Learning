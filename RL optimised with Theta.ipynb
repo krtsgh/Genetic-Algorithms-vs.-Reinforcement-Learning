{
  "cells": [
    {
      "cell_type": "code",
      "execution_count": null,
      "metadata": {
        "id": "20XB3t5_QjHj",
        "colab": {
          "base_uri": "https://localhost:8080/"
        },
        "outputId": "b36e0051-6082-4b09-f9ed-c8877186fca1"
      },
      "outputs": [
        {
          "output_type": "stream",
          "name": "stdout",
          "text": [
            "Mounted at /content/drive\n"
          ]
        }
      ],
      "source": [
        "from google.colab import drive\n",
        "drive.mount('/content/drive')"
      ]
    },
    {
      "cell_type": "code",
      "execution_count": null,
      "metadata": {
        "colab": {
          "base_uri": "https://localhost:8080/"
        },
        "id": "HW2oab0UAfZo",
        "outputId": "abc3afeb-79dd-4382-ab3e-248a54582d5f"
      },
      "outputs": [
        {
          "output_type": "stream",
          "name": "stdout",
          "text": [
            "Collecting wandb\n",
            "  Downloading wandb-0.12.10-py2.py3-none-any.whl (1.7 MB)\n",
            "\u001b[?25l\r\u001b[K     |▏                               | 10 kB 20.2 MB/s eta 0:00:01\r\u001b[K     |▍                               | 20 kB 11.7 MB/s eta 0:00:01\r\u001b[K     |▋                               | 30 kB 9.4 MB/s eta 0:00:01\r\u001b[K     |▊                               | 40 kB 8.5 MB/s eta 0:00:01\r\u001b[K     |█                               | 51 kB 5.3 MB/s eta 0:00:01\r\u001b[K     |█▏                              | 61 kB 5.3 MB/s eta 0:00:01\r\u001b[K     |█▍                              | 71 kB 5.4 MB/s eta 0:00:01\r\u001b[K     |█▌                              | 81 kB 6.1 MB/s eta 0:00:01\r\u001b[K     |█▊                              | 92 kB 4.7 MB/s eta 0:00:01\r\u001b[K     |██                              | 102 kB 5.1 MB/s eta 0:00:01\r\u001b[K     |██                              | 112 kB 5.1 MB/s eta 0:00:01\r\u001b[K     |██▎                             | 122 kB 5.1 MB/s eta 0:00:01\r\u001b[K     |██▌                             | 133 kB 5.1 MB/s eta 0:00:01\r\u001b[K     |██▊                             | 143 kB 5.1 MB/s eta 0:00:01\r\u001b[K     |██▉                             | 153 kB 5.1 MB/s eta 0:00:01\r\u001b[K     |███                             | 163 kB 5.1 MB/s eta 0:00:01\r\u001b[K     |███▎                            | 174 kB 5.1 MB/s eta 0:00:01\r\u001b[K     |███▍                            | 184 kB 5.1 MB/s eta 0:00:01\r\u001b[K     |███▋                            | 194 kB 5.1 MB/s eta 0:00:01\r\u001b[K     |███▉                            | 204 kB 5.1 MB/s eta 0:00:01\r\u001b[K     |████                            | 215 kB 5.1 MB/s eta 0:00:01\r\u001b[K     |████▏                           | 225 kB 5.1 MB/s eta 0:00:01\r\u001b[K     |████▍                           | 235 kB 5.1 MB/s eta 0:00:01\r\u001b[K     |████▋                           | 245 kB 5.1 MB/s eta 0:00:01\r\u001b[K     |████▊                           | 256 kB 5.1 MB/s eta 0:00:01\r\u001b[K     |█████                           | 266 kB 5.1 MB/s eta 0:00:01\r\u001b[K     |█████▏                          | 276 kB 5.1 MB/s eta 0:00:01\r\u001b[K     |█████▍                          | 286 kB 5.1 MB/s eta 0:00:01\r\u001b[K     |█████▌                          | 296 kB 5.1 MB/s eta 0:00:01\r\u001b[K     |█████▊                          | 307 kB 5.1 MB/s eta 0:00:01\r\u001b[K     |██████                          | 317 kB 5.1 MB/s eta 0:00:01\r\u001b[K     |██████                          | 327 kB 5.1 MB/s eta 0:00:01\r\u001b[K     |██████▎                         | 337 kB 5.1 MB/s eta 0:00:01\r\u001b[K     |██████▌                         | 348 kB 5.1 MB/s eta 0:00:01\r\u001b[K     |██████▊                         | 358 kB 5.1 MB/s eta 0:00:01\r\u001b[K     |██████▉                         | 368 kB 5.1 MB/s eta 0:00:01\r\u001b[K     |███████                         | 378 kB 5.1 MB/s eta 0:00:01\r\u001b[K     |███████▎                        | 389 kB 5.1 MB/s eta 0:00:01\r\u001b[K     |███████▍                        | 399 kB 5.1 MB/s eta 0:00:01\r\u001b[K     |███████▋                        | 409 kB 5.1 MB/s eta 0:00:01\r\u001b[K     |███████▉                        | 419 kB 5.1 MB/s eta 0:00:01\r\u001b[K     |████████                        | 430 kB 5.1 MB/s eta 0:00:01\r\u001b[K     |████████▏                       | 440 kB 5.1 MB/s eta 0:00:01\r\u001b[K     |████████▍                       | 450 kB 5.1 MB/s eta 0:00:01\r\u001b[K     |████████▋                       | 460 kB 5.1 MB/s eta 0:00:01\r\u001b[K     |████████▊                       | 471 kB 5.1 MB/s eta 0:00:01\r\u001b[K     |█████████                       | 481 kB 5.1 MB/s eta 0:00:01\r\u001b[K     |█████████▏                      | 491 kB 5.1 MB/s eta 0:00:01\r\u001b[K     |█████████▍                      | 501 kB 5.1 MB/s eta 0:00:01\r\u001b[K     |█████████▌                      | 512 kB 5.1 MB/s eta 0:00:01\r\u001b[K     |█████████▊                      | 522 kB 5.1 MB/s eta 0:00:01\r\u001b[K     |██████████                      | 532 kB 5.1 MB/s eta 0:00:01\r\u001b[K     |██████████                      | 542 kB 5.1 MB/s eta 0:00:01\r\u001b[K     |██████████▎                     | 552 kB 5.1 MB/s eta 0:00:01\r\u001b[K     |██████████▌                     | 563 kB 5.1 MB/s eta 0:00:01\r\u001b[K     |██████████▊                     | 573 kB 5.1 MB/s eta 0:00:01\r\u001b[K     |██████████▉                     | 583 kB 5.1 MB/s eta 0:00:01\r\u001b[K     |███████████                     | 593 kB 5.1 MB/s eta 0:00:01\r\u001b[K     |███████████▎                    | 604 kB 5.1 MB/s eta 0:00:01\r\u001b[K     |███████████▍                    | 614 kB 5.1 MB/s eta 0:00:01\r\u001b[K     |███████████▋                    | 624 kB 5.1 MB/s eta 0:00:01\r\u001b[K     |███████████▉                    | 634 kB 5.1 MB/s eta 0:00:01\r\u001b[K     |████████████                    | 645 kB 5.1 MB/s eta 0:00:01\r\u001b[K     |████████████▏                   | 655 kB 5.1 MB/s eta 0:00:01\r\u001b[K     |████████████▍                   | 665 kB 5.1 MB/s eta 0:00:01\r\u001b[K     |████████████▋                   | 675 kB 5.1 MB/s eta 0:00:01\r\u001b[K     |████████████▊                   | 686 kB 5.1 MB/s eta 0:00:01\r\u001b[K     |█████████████                   | 696 kB 5.1 MB/s eta 0:00:01\r\u001b[K     |█████████████▏                  | 706 kB 5.1 MB/s eta 0:00:01\r\u001b[K     |█████████████▍                  | 716 kB 5.1 MB/s eta 0:00:01\r\u001b[K     |█████████████▌                  | 727 kB 5.1 MB/s eta 0:00:01\r\u001b[K     |█████████████▊                  | 737 kB 5.1 MB/s eta 0:00:01\r\u001b[K     |██████████████                  | 747 kB 5.1 MB/s eta 0:00:01\r\u001b[K     |██████████████                  | 757 kB 5.1 MB/s eta 0:00:01\r\u001b[K     |██████████████▎                 | 768 kB 5.1 MB/s eta 0:00:01\r\u001b[K     |██████████████▌                 | 778 kB 5.1 MB/s eta 0:00:01\r\u001b[K     |██████████████▊                 | 788 kB 5.1 MB/s eta 0:00:01\r\u001b[K     |██████████████▉                 | 798 kB 5.1 MB/s eta 0:00:01\r\u001b[K     |███████████████                 | 808 kB 5.1 MB/s eta 0:00:01\r\u001b[K     |███████████████▎                | 819 kB 5.1 MB/s eta 0:00:01\r\u001b[K     |███████████████▍                | 829 kB 5.1 MB/s eta 0:00:01\r\u001b[K     |███████████████▋                | 839 kB 5.1 MB/s eta 0:00:01\r\u001b[K     |███████████████▉                | 849 kB 5.1 MB/s eta 0:00:01\r\u001b[K     |████████████████                | 860 kB 5.1 MB/s eta 0:00:01\r\u001b[K     |████████████████▏               | 870 kB 5.1 MB/s eta 0:00:01\r\u001b[K     |████████████████▍               | 880 kB 5.1 MB/s eta 0:00:01\r\u001b[K     |████████████████▋               | 890 kB 5.1 MB/s eta 0:00:01\r\u001b[K     |████████████████▊               | 901 kB 5.1 MB/s eta 0:00:01\r\u001b[K     |█████████████████               | 911 kB 5.1 MB/s eta 0:00:01\r\u001b[K     |█████████████████▏              | 921 kB 5.1 MB/s eta 0:00:01\r\u001b[K     |█████████████████▍              | 931 kB 5.1 MB/s eta 0:00:01\r\u001b[K     |█████████████████▌              | 942 kB 5.1 MB/s eta 0:00:01\r\u001b[K     |█████████████████▊              | 952 kB 5.1 MB/s eta 0:00:01\r\u001b[K     |██████████████████              | 962 kB 5.1 MB/s eta 0:00:01\r\u001b[K     |██████████████████              | 972 kB 5.1 MB/s eta 0:00:01\r\u001b[K     |██████████████████▎             | 983 kB 5.1 MB/s eta 0:00:01\r\u001b[K     |██████████████████▌             | 993 kB 5.1 MB/s eta 0:00:01\r\u001b[K     |██████████████████▊             | 1.0 MB 5.1 MB/s eta 0:00:01\r\u001b[K     |██████████████████▉             | 1.0 MB 5.1 MB/s eta 0:00:01\r\u001b[K     |███████████████████             | 1.0 MB 5.1 MB/s eta 0:00:01\r\u001b[K     |███████████████████▎            | 1.0 MB 5.1 MB/s eta 0:00:01\r\u001b[K     |███████████████████▍            | 1.0 MB 5.1 MB/s eta 0:00:01\r\u001b[K     |███████████████████▋            | 1.1 MB 5.1 MB/s eta 0:00:01\r\u001b[K     |███████████████████▉            | 1.1 MB 5.1 MB/s eta 0:00:01\r\u001b[K     |████████████████████            | 1.1 MB 5.1 MB/s eta 0:00:01\r\u001b[K     |████████████████████▏           | 1.1 MB 5.1 MB/s eta 0:00:01\r\u001b[K     |████████████████████▍           | 1.1 MB 5.1 MB/s eta 0:00:01\r\u001b[K     |████████████████████▋           | 1.1 MB 5.1 MB/s eta 0:00:01\r\u001b[K     |████████████████████▊           | 1.1 MB 5.1 MB/s eta 0:00:01\r\u001b[K     |█████████████████████           | 1.1 MB 5.1 MB/s eta 0:00:01\r\u001b[K     |█████████████████████▏          | 1.1 MB 5.1 MB/s eta 0:00:01\r\u001b[K     |█████████████████████▍          | 1.1 MB 5.1 MB/s eta 0:00:01\r\u001b[K     |█████████████████████▌          | 1.2 MB 5.1 MB/s eta 0:00:01\r\u001b[K     |█████████████████████▊          | 1.2 MB 5.1 MB/s eta 0:00:01\r\u001b[K     |██████████████████████          | 1.2 MB 5.1 MB/s eta 0:00:01\r\u001b[K     |██████████████████████          | 1.2 MB 5.1 MB/s eta 0:00:01\r\u001b[K     |██████████████████████▎         | 1.2 MB 5.1 MB/s eta 0:00:01\r\u001b[K     |██████████████████████▌         | 1.2 MB 5.1 MB/s eta 0:00:01\r\u001b[K     |██████████████████████▊         | 1.2 MB 5.1 MB/s eta 0:00:01\r\u001b[K     |██████████████████████▉         | 1.2 MB 5.1 MB/s eta 0:00:01\r\u001b[K     |███████████████████████         | 1.2 MB 5.1 MB/s eta 0:00:01\r\u001b[K     |███████████████████████▎        | 1.2 MB 5.1 MB/s eta 0:00:01\r\u001b[K     |███████████████████████▍        | 1.3 MB 5.1 MB/s eta 0:00:01\r\u001b[K     |███████████████████████▋        | 1.3 MB 5.1 MB/s eta 0:00:01\r\u001b[K     |███████████████████████▉        | 1.3 MB 5.1 MB/s eta 0:00:01\r\u001b[K     |████████████████████████        | 1.3 MB 5.1 MB/s eta 0:00:01\r\u001b[K     |████████████████████████▏       | 1.3 MB 5.1 MB/s eta 0:00:01\r\u001b[K     |████████████████████████▍       | 1.3 MB 5.1 MB/s eta 0:00:01\r\u001b[K     |████████████████████████▋       | 1.3 MB 5.1 MB/s eta 0:00:01\r\u001b[K     |████████████████████████▊       | 1.3 MB 5.1 MB/s eta 0:00:01\r\u001b[K     |█████████████████████████       | 1.3 MB 5.1 MB/s eta 0:00:01\r\u001b[K     |█████████████████████████▏      | 1.4 MB 5.1 MB/s eta 0:00:01\r\u001b[K     |█████████████████████████▍      | 1.4 MB 5.1 MB/s eta 0:00:01\r\u001b[K     |█████████████████████████▌      | 1.4 MB 5.1 MB/s eta 0:00:01\r\u001b[K     |█████████████████████████▊      | 1.4 MB 5.1 MB/s eta 0:00:01\r\u001b[K     |██████████████████████████      | 1.4 MB 5.1 MB/s eta 0:00:01\r\u001b[K     |██████████████████████████▏     | 1.4 MB 5.1 MB/s eta 0:00:01\r\u001b[K     |██████████████████████████▎     | 1.4 MB 5.1 MB/s eta 0:00:01\r\u001b[K     |██████████████████████████▌     | 1.4 MB 5.1 MB/s eta 0:00:01\r\u001b[K     |██████████████████████████▊     | 1.4 MB 5.1 MB/s eta 0:00:01\r\u001b[K     |██████████████████████████▉     | 1.4 MB 5.1 MB/s eta 0:00:01\r\u001b[K     |███████████████████████████     | 1.5 MB 5.1 MB/s eta 0:00:01\r\u001b[K     |███████████████████████████▎    | 1.5 MB 5.1 MB/s eta 0:00:01\r\u001b[K     |███████████████████████████▌    | 1.5 MB 5.1 MB/s eta 0:00:01\r\u001b[K     |███████████████████████████▋    | 1.5 MB 5.1 MB/s eta 0:00:01\r\u001b[K     |███████████████████████████▉    | 1.5 MB 5.1 MB/s eta 0:00:01\r\u001b[K     |████████████████████████████    | 1.5 MB 5.1 MB/s eta 0:00:01\r\u001b[K     |████████████████████████████▏   | 1.5 MB 5.1 MB/s eta 0:00:01\r\u001b[K     |████████████████████████████▍   | 1.5 MB 5.1 MB/s eta 0:00:01\r\u001b[K     |████████████████████████████▋   | 1.5 MB 5.1 MB/s eta 0:00:01\r\u001b[K     |████████████████████████████▉   | 1.5 MB 5.1 MB/s eta 0:00:01\r\u001b[K     |█████████████████████████████   | 1.6 MB 5.1 MB/s eta 0:00:01\r\u001b[K     |█████████████████████████████▏  | 1.6 MB 5.1 MB/s eta 0:00:01\r\u001b[K     |█████████████████████████████▍  | 1.6 MB 5.1 MB/s eta 0:00:01\r\u001b[K     |█████████████████████████████▌  | 1.6 MB 5.1 MB/s eta 0:00:01\r\u001b[K     |█████████████████████████████▊  | 1.6 MB 5.1 MB/s eta 0:00:01\r\u001b[K     |██████████████████████████████  | 1.6 MB 5.1 MB/s eta 0:00:01\r\u001b[K     |██████████████████████████████▏ | 1.6 MB 5.1 MB/s eta 0:00:01\r\u001b[K     |██████████████████████████████▎ | 1.6 MB 5.1 MB/s eta 0:00:01\r\u001b[K     |██████████████████████████████▌ | 1.6 MB 5.1 MB/s eta 0:00:01\r\u001b[K     |██████████████████████████████▊ | 1.6 MB 5.1 MB/s eta 0:00:01\r\u001b[K     |██████████████████████████████▉ | 1.7 MB 5.1 MB/s eta 0:00:01\r\u001b[K     |███████████████████████████████ | 1.7 MB 5.1 MB/s eta 0:00:01\r\u001b[K     |███████████████████████████████▎| 1.7 MB 5.1 MB/s eta 0:00:01\r\u001b[K     |███████████████████████████████▌| 1.7 MB 5.1 MB/s eta 0:00:01\r\u001b[K     |███████████████████████████████▋| 1.7 MB 5.1 MB/s eta 0:00:01\r\u001b[K     |███████████████████████████████▉| 1.7 MB 5.1 MB/s eta 0:00:01\r\u001b[K     |████████████████████████████████| 1.7 MB 5.1 MB/s \n",
            "\u001b[?25hRequirement already satisfied: psutil>=5.0.0 in /usr/local/lib/python3.7/dist-packages (from wandb) (5.4.8)\n",
            "Requirement already satisfied: PyYAML in /usr/local/lib/python3.7/dist-packages (from wandb) (3.13)\n",
            "Requirement already satisfied: requests<3,>=2.0.0 in /usr/local/lib/python3.7/dist-packages (from wandb) (2.23.0)\n",
            "Collecting yaspin>=1.0.0\n",
            "  Downloading yaspin-2.1.0-py3-none-any.whl (18 kB)\n",
            "Requirement already satisfied: python-dateutil>=2.6.1 in /usr/local/lib/python3.7/dist-packages (from wandb) (2.8.2)\n",
            "Requirement already satisfied: protobuf>=3.12.0 in /usr/local/lib/python3.7/dist-packages (from wandb) (3.17.3)\n",
            "Collecting pathtools\n",
            "  Downloading pathtools-0.1.2.tar.gz (11 kB)\n",
            "Collecting GitPython>=1.0.0\n",
            "  Downloading GitPython-3.1.26-py3-none-any.whl (180 kB)\n",
            "\u001b[K     |████████████████████████████████| 180 kB 63.4 MB/s \n",
            "\u001b[?25hCollecting shortuuid>=0.5.0\n",
            "  Downloading shortuuid-1.0.8-py3-none-any.whl (9.5 kB)\n",
            "Collecting sentry-sdk>=1.0.0\n",
            "  Downloading sentry_sdk-1.5.5-py2.py3-none-any.whl (144 kB)\n",
            "\u001b[K     |████████████████████████████████| 144 kB 67.9 MB/s \n",
            "\u001b[?25hRequirement already satisfied: promise<3,>=2.0 in /usr/local/lib/python3.7/dist-packages (from wandb) (2.3)\n",
            "Requirement already satisfied: six>=1.13.0 in /usr/local/lib/python3.7/dist-packages (from wandb) (1.15.0)\n",
            "Collecting docker-pycreds>=0.4.0\n",
            "  Downloading docker_pycreds-0.4.0-py2.py3-none-any.whl (9.0 kB)\n",
            "Requirement already satisfied: Click!=8.0.0,>=7.0 in /usr/local/lib/python3.7/dist-packages (from wandb) (7.1.2)\n",
            "Collecting gitdb<5,>=4.0.1\n",
            "  Downloading gitdb-4.0.9-py3-none-any.whl (63 kB)\n",
            "\u001b[K     |████████████████████████████████| 63 kB 1.9 MB/s \n",
            "\u001b[?25hRequirement already satisfied: typing-extensions>=3.7.4.3 in /usr/local/lib/python3.7/dist-packages (from GitPython>=1.0.0->wandb) (3.10.0.2)\n",
            "Collecting smmap<6,>=3.0.1\n",
            "  Downloading smmap-5.0.0-py3-none-any.whl (24 kB)\n",
            "Requirement already satisfied: urllib3!=1.25.0,!=1.25.1,<1.26,>=1.21.1 in /usr/local/lib/python3.7/dist-packages (from requests<3,>=2.0.0->wandb) (1.24.3)\n",
            "Requirement already satisfied: idna<3,>=2.5 in /usr/local/lib/python3.7/dist-packages (from requests<3,>=2.0.0->wandb) (2.10)\n",
            "Requirement already satisfied: chardet<4,>=3.0.2 in /usr/local/lib/python3.7/dist-packages (from requests<3,>=2.0.0->wandb) (3.0.4)\n",
            "Requirement already satisfied: certifi>=2017.4.17 in /usr/local/lib/python3.7/dist-packages (from requests<3,>=2.0.0->wandb) (2021.10.8)\n",
            "Requirement already satisfied: termcolor<2.0.0,>=1.1.0 in /usr/local/lib/python3.7/dist-packages (from yaspin>=1.0.0->wandb) (1.1.0)\n",
            "Building wheels for collected packages: pathtools\n",
            "  Building wheel for pathtools (setup.py) ... \u001b[?25l\u001b[?25hdone\n",
            "  Created wheel for pathtools: filename=pathtools-0.1.2-py3-none-any.whl size=8806 sha256=010c2f1c6d742be23947687f2e2907310e4804558dc419b164e199570a03cc58\n",
            "  Stored in directory: /root/.cache/pip/wheels/3e/31/09/fa59cef12cdcfecc627b3d24273699f390e71828921b2cbba2\n",
            "Successfully built pathtools\n",
            "Installing collected packages: smmap, gitdb, yaspin, shortuuid, sentry-sdk, pathtools, GitPython, docker-pycreds, wandb\n",
            "Successfully installed GitPython-3.1.26 docker-pycreds-0.4.0 gitdb-4.0.9 pathtools-0.1.2 sentry-sdk-1.5.5 shortuuid-1.0.8 smmap-5.0.0 wandb-0.12.10 yaspin-2.1.0\n"
          ]
        }
      ],
      "source": [
        "!pip install wandb"
      ]
    },
    {
      "cell_type": "code",
      "execution_count": null,
      "metadata": {
        "id": "_cH68uLICghq"
      },
      "outputs": [],
      "source": [
        "import numpy as np\n",
        "from PIL import Image, ImageDraw \n",
        "import PIL\n",
        "from matplotlib.pyplot import imshow\n",
        "import wandb"
      ]
    },
    {
      "cell_type": "code",
      "execution_count": null,
      "metadata": {
        "id": "Eh7_l24bAk7g"
      },
      "outputs": [],
      "source": [
        "import os\n",
        "#replace key\n",
        "os.environ[\"WANDB_API_KEY\"] = \"b4c712113157d9a744432d4033a69538a23c6af7\""
      ]
    },
    {
      "cell_type": "code",
      "execution_count": null,
      "metadata": {
        "id": "HI0liuPaCugh"
      },
      "outputs": [],
      "source": [
        "def get_parents(ip_seed):\n",
        "    np.random.seed(ip_seed)\n",
        "    rect_shape = list(np.random.randint(10, 900, size =2))\n",
        "    ellipse_shape = list(np.random.randint(10, 900, size =2))\n",
        "    theta = np.random.randint(0,361, size =2)\n",
        "    return rect_shape, ellipse_shape, theta"
      ]
    },
    {
      "cell_type": "code",
      "execution_count": null,
      "metadata": {
        "id": "Xy5RP7CgaBQX"
      },
      "outputs": [],
      "source": [
        "def img_with_theta(x,y, theta):\n",
        "  rect_shape, ellipse_shape, theta = x, y, theta\n",
        "  img_size = 1000\n",
        "  img_centre = img_size / 2\n",
        "  img_theta = PIL.Image.new(mode=\"RGBA\", size=(img_size, img_size), color = \"green\")\n",
        "  rect_canvas = PIL.Image.new(\"RGBA\", (1000, 1000), (0, 0, 0, 0))\n",
        "  ell_canvas = PIL.Image.new(\"RGBA\", (1000,1000), (0, 0, 0, 0))\n",
        "  draw = ImageDraw.Draw(img_theta)\n",
        "  draw_rect = ImageDraw.Draw(rect_canvas)\n",
        "  draw_ell = ImageDraw.Draw(ell_canvas)\n",
        "  # print(rect_shape)\n",
        "  rect_x1 = img_centre-(0.5*(rect_shape[0]))\n",
        "  rect_y1 = img_centre-(0.5*(rect_shape[1]))\n",
        "\n",
        "  rect_x2 = img_centre+(0.5*(rect_shape[0]))\n",
        "  rect_y2 = img_centre+(0.5*(rect_shape[1]))\n",
        "\n",
        "  ellipse_x1 = img_centre-(0.5*(ellipse_shape[0]))\n",
        "  ellipse_y1 = img_centre-(0.5*(ellipse_shape[1]))\n",
        "\n",
        "  ellipse_x2 = img_centre+(0.5*(ellipse_shape[0]))\n",
        "  ellipse_y2 = img_centre+(0.5*(ellipse_shape[1]))\n",
        "\n",
        "  draw_rect.rectangle(((rect_x1, rect_y1), (rect_x2, rect_y2)), fill = \"black\")\n",
        "  draw_ell.ellipse(((ellipse_x1, ellipse_y1), (ellipse_x2, ellipse_y2)), fill = \"white\")\n",
        "  rect_canvas = rect_canvas.rotate(theta[0])\n",
        "  # img_rectangle_theta = \n",
        "  ell_canvas = ell_canvas.rotate(theta[1])\n",
        "  rect_canvas.alpha_composite(ell_canvas)\n",
        "  img_theta.alpha_composite(rect_canvas)\n",
        "  return img_theta"
      ]
    },
    {
      "cell_type": "code",
      "execution_count": null,
      "metadata": {
        "id": "iir8NXt3Ek6-"
      },
      "outputs": [],
      "source": [
        "def cal_loss(img):\n",
        "    im = img.load()\n",
        "    black = 0\n",
        "    white = 0\n",
        "    for x in range(0,1000):\n",
        "        for y in range(0,1000):\n",
        "            if im[x,y]==(0,0,0,255):\n",
        "                black +=1\n",
        "            elif im[x,y]==(255,255,255,255):\n",
        "                white +=1\n",
        "    try:\n",
        "      loss = (1-white/black)**2\n",
        "    except:\n",
        "      loss = (1-white)**2\n",
        "    return loss, white, black           "
      ]
    },
    {
      "cell_type": "code",
      "execution_count": null,
      "metadata": {
        "id": "Z1K6ZVgqEpFw"
      },
      "outputs": [],
      "source": [
        "def update(loss, white, black, img, rect_shape, ellipse_shape, theta):\n",
        "    prob = np.random.randint(0,2)\n",
        "    r_theta =  theta[0] + 5\n",
        "    e_theta = theta[1] + 5\n",
        "    img_e = img_with_theta(rect_shape, ellipse_shape,[theta[0], e_theta])\n",
        "    img_r = img_with_theta(rect_shape, ellipse_shape, [r_theta,theta[1]])\n",
        "    loss_r, white_r, black_r = cal_loss(img_r)\n",
        "    loss_e, white_e, black_e = cal_loss(img_e)\n",
        "    if min(loss, loss_r, loss_e) == loss_e or min(loss, loss_r, loss_e) == loss_r:\n",
        "      if min(loss_r, loss_e) == loss_e:\n",
        "        if e_theta>=360:\n",
        "          e_theta = e_theta - 360\n",
        "        return loss_e, white_e, black_e, img_e, rect_shape, ellipse_shape, [theta[0],e_theta]\n",
        "      else:\n",
        "        if r_theta>=360:\n",
        "          r_theta = r_theta - 360\n",
        "        return loss_r, white_r, black_r, img_r, rect_shape, ellipse_shape, [r_theta,theta[1]]\n",
        "    if white > black and prob == 0:\n",
        "      rect_shape[0]  = rect_shape[0] + (learning_rate * alpha)\n",
        "      rect_shape[1]  = rect_shape[1] + (learning_rate * alpha)\n",
        "    elif white > black and prob == 1:\n",
        "      ellipse_shape[0]  = ellipse_shape[0] - (learning_rate * alpha)\n",
        "      ellipse_shape[1]  = ellipse_shape[1] - (learning_rate * alpha)\n",
        "    elif black > white and prob == 0:\n",
        "      rect_shape[0]  = rect_shape[0] - (learning_rate * alpha)\n",
        "      rect_shape[1]  = rect_shape[1] - (learning_rate * alpha)\n",
        "    elif black > white and prob == 1:\n",
        "      ellipse_shape[0]  = ellipse_shape[0] + (learning_rate * alpha)\n",
        "      ellipse_shape[1]  = ellipse_shape[1] + (learning_rate * alpha)\n",
        "    img = img_with_theta(rect_shape, ellipse_shape, theta)\n",
        "    loss, white, black = cal_loss(img)\n",
        "    return loss, white, black, img, rect_shape, ellipse_shape, theta     "
      ]
    },
    {
      "cell_type": "code",
      "execution_count": null,
      "metadata": {
        "colab": {
          "base_uri": "https://localhost:8080/",
          "height": 103
        },
        "id": "0Pec-osdosHr",
        "outputId": "cffd5dcb-a6f9-4e26-c558-3844013079e9"
      },
      "outputs": [
        {
          "output_type": "stream",
          "name": "stderr",
          "text": [
            "\u001b[34m\u001b[1mwandb\u001b[0m: Currently logged in as: \u001b[33mkritisinghh21\u001b[0m (use `wandb login --relogin` to force relogin)\n"
          ]
        },
        {
          "output_type": "display_data",
          "data": {
            "text/html": [
              "\n",
              "                    Syncing run <strong><a href=\"https://wandb.ai/kritisinghh21/Reinforcement%20Learning%20Final%20Run/runs/2wv1tnli\" target=\"_blank\">icy-sponge-99</a></strong> to <a href=\"https://wandb.ai/kritisinghh21/Reinforcement%20Learning%20Final%20Run\" target=\"_blank\">Weights & Biases</a> (<a href=\"https://docs.wandb.com/integrations/jupyter.html\" target=\"_blank\">docs</a>).<br/>\n",
              "\n",
              "                "
            ],
            "text/plain": [
              "<IPython.core.display.HTML object>"
            ]
          },
          "metadata": {}
        },
        {
          "output_type": "stream",
          "name": "stdout",
          "text": [
            "Policy reached threshold 0.01 in 136 steps. \n",
            " Current loss: 0.009035697911804587 \n",
            " Learning Rate: 0.01\n"
          ]
        }
      ],
      "source": [
        "import os\n",
        "wandb.init(project=\"Reinforcement Learning Final Run\")\n",
        "learning_rate = 0.01\n",
        "alpha = 100\n",
        "seed = 3021\n",
        "rect_shape, ell_shape, theta = get_parents(seed)\n",
        "img = img_with_theta(rect_shape,ell_shape, theta)\n",
        "loss, num_white, num_black = cal_loss(img)\n",
        "n_iterations = 0\n",
        "threshold = 1e-2\n",
        "curr_dir = \"/content/drive/MyDrive/LENS/RL Images/\"+str(seed)+\"/\"+str(threshold)+\"-threshold\"\n",
        "os.makedirs(curr_dir)\n",
        "while(loss>=threshold):\n",
        "  wandb.log({\"Loss\": loss})\n",
        "  wandb.log({\"Theta Rectangle\": theta[0]})\n",
        "  wandb.log({\"Theta Ellipse\": theta[1]})\n",
        "  wandb.log({\"Image\": [wandb.Image(img)]})\n",
        "  wandb.log({\"Rect Length\": rect_shape[0]})\n",
        "  wandb.log({\"Rect Width\": rect_shape[1]})\n",
        "  wandb.log({\"Ell Length\": ell_shape[0]})\n",
        "  wandb.log({\"Ell Width\": ell_shape[1]})\n",
        "  wandb.log({\"Black Pixels\": num_black})\n",
        "  wandb.log({\"White Pixels\": num_white})\n",
        "  imgname = \"/content/drive/MyDrive/LENS/RL Images/\" +str(seed)+\"/\"+str(threshold)+\"-threshold/\"+str(n_iterations)+\".png\"\n",
        "  img.save(imgname)\n",
        "  loss, num_white, num_black, img, rect_shape, ell_shape, theta = update(loss, num_white, num_black, img, rect_shape, ell_shape, theta)\n",
        "  n_iterations = n_iterations + 1\n",
        "print(\"Policy reached threshold\", threshold,\"in\",n_iterations,\"steps. \\n Current loss:\",loss,\"\\n Learning Rate:\",learning_rate)"
      ]
    },
    {
      "cell_type": "code",
      "source": [],
      "metadata": {
        "id": "y-i1F4ulWoT0"
      },
      "execution_count": null,
      "outputs": []
    }
  ],
  "metadata": {
    "colab": {
      "provenance": []
    },
    "kernelspec": {
      "display_name": "Python 3",
      "name": "python3"
    },
    "language_info": {
      "name": "python"
    }
  },
  "nbformat": 4,
  "nbformat_minor": 0
}