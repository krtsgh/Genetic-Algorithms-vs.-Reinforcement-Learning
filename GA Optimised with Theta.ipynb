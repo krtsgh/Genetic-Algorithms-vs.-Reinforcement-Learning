{
  "cells": [
    {
      "cell_type": "code",
      "execution_count": null,
      "metadata": {
        "id": "vm008wCFtcOw"
      },
      "outputs": [],
      "source": [
        "from google.colab import drive\n",
        "drive.mount('/content/drive')"
      ]
    },
    {
      "cell_type": "code",
      "execution_count": null,
      "metadata": {
        "colab": {
          "base_uri": "https://localhost:8080/"
        },
        "id": "dtWXZQNbHiXK",
        "outputId": "4469d2d4-3ccf-4758-aded-b3ac9e6764d7"
      },
      "outputs": [
        {
          "output_type": "stream",
          "name": "stdout",
          "text": [
            "Collecting wandb\n",
            "  Downloading wandb-0.12.10-py2.py3-none-any.whl (1.7 MB)\n",
            "\u001b[?25l\r\u001b[K     |▏                               | 10 kB 19.3 MB/s eta 0:00:01\r\u001b[K     |▍                               | 20 kB 12.4 MB/s eta 0:00:01\r\u001b[K     |▋                               | 30 kB 9.7 MB/s eta 0:00:01\r\u001b[K     |▊                               | 40 kB 8.5 MB/s eta 0:00:01\r\u001b[K     |█                               | 51 kB 5.3 MB/s eta 0:00:01\r\u001b[K     |█▏                              | 61 kB 5.4 MB/s eta 0:00:01\r\u001b[K     |█▍                              | 71 kB 5.3 MB/s eta 0:00:01\r\u001b[K     |█▌                              | 81 kB 5.9 MB/s eta 0:00:01\r\u001b[K     |█▊                              | 92 kB 4.6 MB/s eta 0:00:01\r\u001b[K     |██                              | 102 kB 5.0 MB/s eta 0:00:01\r\u001b[K     |██                              | 112 kB 5.0 MB/s eta 0:00:01\r\u001b[K     |██▎                             | 122 kB 5.0 MB/s eta 0:00:01\r\u001b[K     |██▌                             | 133 kB 5.0 MB/s eta 0:00:01\r\u001b[K     |██▊                             | 143 kB 5.0 MB/s eta 0:00:01\r\u001b[K     |██▉                             | 153 kB 5.0 MB/s eta 0:00:01\r\u001b[K     |███                             | 163 kB 5.0 MB/s eta 0:00:01\r\u001b[K     |███▎                            | 174 kB 5.0 MB/s eta 0:00:01\r\u001b[K     |███▍                            | 184 kB 5.0 MB/s eta 0:00:01\r\u001b[K     |███▋                            | 194 kB 5.0 MB/s eta 0:00:01\r\u001b[K     |███▉                            | 204 kB 5.0 MB/s eta 0:00:01\r\u001b[K     |████                            | 215 kB 5.0 MB/s eta 0:00:01\r\u001b[K     |████▏                           | 225 kB 5.0 MB/s eta 0:00:01\r\u001b[K     |████▍                           | 235 kB 5.0 MB/s eta 0:00:01\r\u001b[K     |████▋                           | 245 kB 5.0 MB/s eta 0:00:01\r\u001b[K     |████▊                           | 256 kB 5.0 MB/s eta 0:00:01\r\u001b[K     |█████                           | 266 kB 5.0 MB/s eta 0:00:01\r\u001b[K     |█████▏                          | 276 kB 5.0 MB/s eta 0:00:01\r\u001b[K     |█████▍                          | 286 kB 5.0 MB/s eta 0:00:01\r\u001b[K     |█████▌                          | 296 kB 5.0 MB/s eta 0:00:01\r\u001b[K     |█████▊                          | 307 kB 5.0 MB/s eta 0:00:01\r\u001b[K     |██████                          | 317 kB 5.0 MB/s eta 0:00:01\r\u001b[K     |██████                          | 327 kB 5.0 MB/s eta 0:00:01\r\u001b[K     |██████▎                         | 337 kB 5.0 MB/s eta 0:00:01\r\u001b[K     |██████▌                         | 348 kB 5.0 MB/s eta 0:00:01\r\u001b[K     |██████▊                         | 358 kB 5.0 MB/s eta 0:00:01\r\u001b[K     |██████▉                         | 368 kB 5.0 MB/s eta 0:00:01\r\u001b[K     |███████                         | 378 kB 5.0 MB/s eta 0:00:01\r\u001b[K     |███████▎                        | 389 kB 5.0 MB/s eta 0:00:01\r\u001b[K     |███████▍                        | 399 kB 5.0 MB/s eta 0:00:01\r\u001b[K     |███████▋                        | 409 kB 5.0 MB/s eta 0:00:01\r\u001b[K     |███████▉                        | 419 kB 5.0 MB/s eta 0:00:01\r\u001b[K     |████████                        | 430 kB 5.0 MB/s eta 0:00:01\r\u001b[K     |████████▏                       | 440 kB 5.0 MB/s eta 0:00:01\r\u001b[K     |████████▍                       | 450 kB 5.0 MB/s eta 0:00:01\r\u001b[K     |████████▋                       | 460 kB 5.0 MB/s eta 0:00:01\r\u001b[K     |████████▊                       | 471 kB 5.0 MB/s eta 0:00:01\r\u001b[K     |█████████                       | 481 kB 5.0 MB/s eta 0:00:01\r\u001b[K     |█████████▏                      | 491 kB 5.0 MB/s eta 0:00:01\r\u001b[K     |█████████▍                      | 501 kB 5.0 MB/s eta 0:00:01\r\u001b[K     |█████████▌                      | 512 kB 5.0 MB/s eta 0:00:01\r\u001b[K     |█████████▊                      | 522 kB 5.0 MB/s eta 0:00:01\r\u001b[K     |██████████                      | 532 kB 5.0 MB/s eta 0:00:01\r\u001b[K     |██████████                      | 542 kB 5.0 MB/s eta 0:00:01\r\u001b[K     |██████████▎                     | 552 kB 5.0 MB/s eta 0:00:01\r\u001b[K     |██████████▌                     | 563 kB 5.0 MB/s eta 0:00:01\r\u001b[K     |██████████▊                     | 573 kB 5.0 MB/s eta 0:00:01\r\u001b[K     |██████████▉                     | 583 kB 5.0 MB/s eta 0:00:01\r\u001b[K     |███████████                     | 593 kB 5.0 MB/s eta 0:00:01\r\u001b[K     |███████████▎                    | 604 kB 5.0 MB/s eta 0:00:01\r\u001b[K     |███████████▍                    | 614 kB 5.0 MB/s eta 0:00:01\r\u001b[K     |███████████▋                    | 624 kB 5.0 MB/s eta 0:00:01\r\u001b[K     |███████████▉                    | 634 kB 5.0 MB/s eta 0:00:01\r\u001b[K     |████████████                    | 645 kB 5.0 MB/s eta 0:00:01\r\u001b[K     |████████████▏                   | 655 kB 5.0 MB/s eta 0:00:01\r\u001b[K     |████████████▍                   | 665 kB 5.0 MB/s eta 0:00:01\r\u001b[K     |████████████▋                   | 675 kB 5.0 MB/s eta 0:00:01\r\u001b[K     |████████████▊                   | 686 kB 5.0 MB/s eta 0:00:01\r\u001b[K     |█████████████                   | 696 kB 5.0 MB/s eta 0:00:01\r\u001b[K     |█████████████▏                  | 706 kB 5.0 MB/s eta 0:00:01\r\u001b[K     |█████████████▍                  | 716 kB 5.0 MB/s eta 0:00:01\r\u001b[K     |█████████████▌                  | 727 kB 5.0 MB/s eta 0:00:01\r\u001b[K     |█████████████▊                  | 737 kB 5.0 MB/s eta 0:00:01\r\u001b[K     |██████████████                  | 747 kB 5.0 MB/s eta 0:00:01\r\u001b[K     |██████████████                  | 757 kB 5.0 MB/s eta 0:00:01\r\u001b[K     |██████████████▎                 | 768 kB 5.0 MB/s eta 0:00:01\r\u001b[K     |██████████████▌                 | 778 kB 5.0 MB/s eta 0:00:01\r\u001b[K     |██████████████▊                 | 788 kB 5.0 MB/s eta 0:00:01\r\u001b[K     |██████████████▉                 | 798 kB 5.0 MB/s eta 0:00:01\r\u001b[K     |███████████████                 | 808 kB 5.0 MB/s eta 0:00:01\r\u001b[K     |███████████████▎                | 819 kB 5.0 MB/s eta 0:00:01\r\u001b[K     |███████████████▍                | 829 kB 5.0 MB/s eta 0:00:01\r\u001b[K     |███████████████▋                | 839 kB 5.0 MB/s eta 0:00:01\r\u001b[K     |███████████████▉                | 849 kB 5.0 MB/s eta 0:00:01\r\u001b[K     |████████████████                | 860 kB 5.0 MB/s eta 0:00:01\r\u001b[K     |████████████████▏               | 870 kB 5.0 MB/s eta 0:00:01\r\u001b[K     |████████████████▍               | 880 kB 5.0 MB/s eta 0:00:01\r\u001b[K     |████████████████▋               | 890 kB 5.0 MB/s eta 0:00:01\r\u001b[K     |████████████████▊               | 901 kB 5.0 MB/s eta 0:00:01\r\u001b[K     |█████████████████               | 911 kB 5.0 MB/s eta 0:00:01\r\u001b[K     |█████████████████▏              | 921 kB 5.0 MB/s eta 0:00:01\r\u001b[K     |█████████████████▍              | 931 kB 5.0 MB/s eta 0:00:01\r\u001b[K     |█████████████████▌              | 942 kB 5.0 MB/s eta 0:00:01\r\u001b[K     |█████████████████▊              | 952 kB 5.0 MB/s eta 0:00:01\r\u001b[K     |██████████████████              | 962 kB 5.0 MB/s eta 0:00:01\r\u001b[K     |██████████████████              | 972 kB 5.0 MB/s eta 0:00:01\r\u001b[K     |██████████████████▎             | 983 kB 5.0 MB/s eta 0:00:01\r\u001b[K     |██████████████████▌             | 993 kB 5.0 MB/s eta 0:00:01\r\u001b[K     |██████████████████▊             | 1.0 MB 5.0 MB/s eta 0:00:01\r\u001b[K     |██████████████████▉             | 1.0 MB 5.0 MB/s eta 0:00:01\r\u001b[K     |███████████████████             | 1.0 MB 5.0 MB/s eta 0:00:01\r\u001b[K     |███████████████████▎            | 1.0 MB 5.0 MB/s eta 0:00:01\r\u001b[K     |███████████████████▍            | 1.0 MB 5.0 MB/s eta 0:00:01\r\u001b[K     |███████████████████▋            | 1.1 MB 5.0 MB/s eta 0:00:01\r\u001b[K     |███████████████████▉            | 1.1 MB 5.0 MB/s eta 0:00:01\r\u001b[K     |████████████████████            | 1.1 MB 5.0 MB/s eta 0:00:01\r\u001b[K     |████████████████████▏           | 1.1 MB 5.0 MB/s eta 0:00:01\r\u001b[K     |████████████████████▍           | 1.1 MB 5.0 MB/s eta 0:00:01\r\u001b[K     |████████████████████▋           | 1.1 MB 5.0 MB/s eta 0:00:01\r\u001b[K     |████████████████████▊           | 1.1 MB 5.0 MB/s eta 0:00:01\r\u001b[K     |█████████████████████           | 1.1 MB 5.0 MB/s eta 0:00:01\r\u001b[K     |█████████████████████▏          | 1.1 MB 5.0 MB/s eta 0:00:01\r\u001b[K     |█████████████████████▍          | 1.1 MB 5.0 MB/s eta 0:00:01\r\u001b[K     |█████████████████████▌          | 1.2 MB 5.0 MB/s eta 0:00:01\r\u001b[K     |█████████████████████▊          | 1.2 MB 5.0 MB/s eta 0:00:01\r\u001b[K     |██████████████████████          | 1.2 MB 5.0 MB/s eta 0:00:01\r\u001b[K     |██████████████████████          | 1.2 MB 5.0 MB/s eta 0:00:01\r\u001b[K     |██████████████████████▎         | 1.2 MB 5.0 MB/s eta 0:00:01\r\u001b[K     |██████████████████████▌         | 1.2 MB 5.0 MB/s eta 0:00:01\r\u001b[K     |██████████████████████▊         | 1.2 MB 5.0 MB/s eta 0:00:01\r\u001b[K     |██████████████████████▉         | 1.2 MB 5.0 MB/s eta 0:00:01\r\u001b[K     |███████████████████████         | 1.2 MB 5.0 MB/s eta 0:00:01\r\u001b[K     |███████████████████████▎        | 1.2 MB 5.0 MB/s eta 0:00:01\r\u001b[K     |███████████████████████▍        | 1.3 MB 5.0 MB/s eta 0:00:01\r\u001b[K     |███████████████████████▋        | 1.3 MB 5.0 MB/s eta 0:00:01\r\u001b[K     |███████████████████████▉        | 1.3 MB 5.0 MB/s eta 0:00:01\r\u001b[K     |████████████████████████        | 1.3 MB 5.0 MB/s eta 0:00:01\r\u001b[K     |████████████████████████▏       | 1.3 MB 5.0 MB/s eta 0:00:01\r\u001b[K     |████████████████████████▍       | 1.3 MB 5.0 MB/s eta 0:00:01\r\u001b[K     |████████████████████████▋       | 1.3 MB 5.0 MB/s eta 0:00:01\r\u001b[K     |████████████████████████▊       | 1.3 MB 5.0 MB/s eta 0:00:01\r\u001b[K     |█████████████████████████       | 1.3 MB 5.0 MB/s eta 0:00:01\r\u001b[K     |█████████████████████████▏      | 1.4 MB 5.0 MB/s eta 0:00:01\r\u001b[K     |█████████████████████████▍      | 1.4 MB 5.0 MB/s eta 0:00:01\r\u001b[K     |█████████████████████████▌      | 1.4 MB 5.0 MB/s eta 0:00:01\r\u001b[K     |█████████████████████████▊      | 1.4 MB 5.0 MB/s eta 0:00:01\r\u001b[K     |██████████████████████████      | 1.4 MB 5.0 MB/s eta 0:00:01\r\u001b[K     |██████████████████████████▏     | 1.4 MB 5.0 MB/s eta 0:00:01\r\u001b[K     |██████████████████████████▎     | 1.4 MB 5.0 MB/s eta 0:00:01\r\u001b[K     |██████████████████████████▌     | 1.4 MB 5.0 MB/s eta 0:00:01\r\u001b[K     |██████████████████████████▊     | 1.4 MB 5.0 MB/s eta 0:00:01\r\u001b[K     |██████████████████████████▉     | 1.4 MB 5.0 MB/s eta 0:00:01\r\u001b[K     |███████████████████████████     | 1.5 MB 5.0 MB/s eta 0:00:01\r\u001b[K     |███████████████████████████▎    | 1.5 MB 5.0 MB/s eta 0:00:01\r\u001b[K     |███████████████████████████▌    | 1.5 MB 5.0 MB/s eta 0:00:01\r\u001b[K     |███████████████████████████▋    | 1.5 MB 5.0 MB/s eta 0:00:01\r\u001b[K     |███████████████████████████▉    | 1.5 MB 5.0 MB/s eta 0:00:01\r\u001b[K     |████████████████████████████    | 1.5 MB 5.0 MB/s eta 0:00:01\r\u001b[K     |████████████████████████████▏   | 1.5 MB 5.0 MB/s eta 0:00:01\r\u001b[K     |████████████████████████████▍   | 1.5 MB 5.0 MB/s eta 0:00:01\r\u001b[K     |████████████████████████████▋   | 1.5 MB 5.0 MB/s eta 0:00:01\r\u001b[K     |████████████████████████████▉   | 1.5 MB 5.0 MB/s eta 0:00:01\r\u001b[K     |█████████████████████████████   | 1.6 MB 5.0 MB/s eta 0:00:01\r\u001b[K     |█████████████████████████████▏  | 1.6 MB 5.0 MB/s eta 0:00:01\r\u001b[K     |█████████████████████████████▍  | 1.6 MB 5.0 MB/s eta 0:00:01\r\u001b[K     |█████████████████████████████▌  | 1.6 MB 5.0 MB/s eta 0:00:01\r\u001b[K     |█████████████████████████████▊  | 1.6 MB 5.0 MB/s eta 0:00:01\r\u001b[K     |██████████████████████████████  | 1.6 MB 5.0 MB/s eta 0:00:01\r\u001b[K     |██████████████████████████████▏ | 1.6 MB 5.0 MB/s eta 0:00:01\r\u001b[K     |██████████████████████████████▎ | 1.6 MB 5.0 MB/s eta 0:00:01\r\u001b[K     |██████████████████████████████▌ | 1.6 MB 5.0 MB/s eta 0:00:01\r\u001b[K     |██████████████████████████████▊ | 1.6 MB 5.0 MB/s eta 0:00:01\r\u001b[K     |██████████████████████████████▉ | 1.7 MB 5.0 MB/s eta 0:00:01\r\u001b[K     |███████████████████████████████ | 1.7 MB 5.0 MB/s eta 0:00:01\r\u001b[K     |███████████████████████████████▎| 1.7 MB 5.0 MB/s eta 0:00:01\r\u001b[K     |███████████████████████████████▌| 1.7 MB 5.0 MB/s eta 0:00:01\r\u001b[K     |███████████████████████████████▋| 1.7 MB 5.0 MB/s eta 0:00:01\r\u001b[K     |███████████████████████████████▉| 1.7 MB 5.0 MB/s eta 0:00:01\r\u001b[K     |████████████████████████████████| 1.7 MB 5.0 MB/s \n",
            "\u001b[?25hRequirement already satisfied: promise<3,>=2.0 in /usr/local/lib/python3.7/dist-packages (from wandb) (2.3)\n",
            "Requirement already satisfied: protobuf>=3.12.0 in /usr/local/lib/python3.7/dist-packages (from wandb) (3.17.3)\n",
            "Collecting sentry-sdk>=1.0.0\n",
            "  Downloading sentry_sdk-1.5.5-py2.py3-none-any.whl (144 kB)\n",
            "\u001b[K     |████████████████████████████████| 144 kB 47.1 MB/s \n",
            "\u001b[?25hCollecting yaspin>=1.0.0\n",
            "  Downloading yaspin-2.1.0-py3-none-any.whl (18 kB)\n",
            "Collecting shortuuid>=0.5.0\n",
            "  Downloading shortuuid-1.0.8-py3-none-any.whl (9.5 kB)\n",
            "Collecting GitPython>=1.0.0\n",
            "  Downloading GitPython-3.1.26-py3-none-any.whl (180 kB)\n",
            "\u001b[K     |████████████████████████████████| 180 kB 55.7 MB/s \n",
            "\u001b[?25hRequirement already satisfied: psutil>=5.0.0 in /usr/local/lib/python3.7/dist-packages (from wandb) (5.4.8)\n",
            "Collecting docker-pycreds>=0.4.0\n",
            "  Downloading docker_pycreds-0.4.0-py2.py3-none-any.whl (9.0 kB)\n",
            "Requirement already satisfied: requests<3,>=2.0.0 in /usr/local/lib/python3.7/dist-packages (from wandb) (2.23.0)\n",
            "Requirement already satisfied: PyYAML in /usr/local/lib/python3.7/dist-packages (from wandb) (3.13)\n",
            "Collecting pathtools\n",
            "  Downloading pathtools-0.1.2.tar.gz (11 kB)\n",
            "Requirement already satisfied: Click!=8.0.0,>=7.0 in /usr/local/lib/python3.7/dist-packages (from wandb) (7.1.2)\n",
            "Requirement already satisfied: python-dateutil>=2.6.1 in /usr/local/lib/python3.7/dist-packages (from wandb) (2.8.2)\n",
            "Requirement already satisfied: six>=1.13.0 in /usr/local/lib/python3.7/dist-packages (from wandb) (1.15.0)\n",
            "Collecting gitdb<5,>=4.0.1\n",
            "  Downloading gitdb-4.0.9-py3-none-any.whl (63 kB)\n",
            "\u001b[K     |████████████████████████████████| 63 kB 1.6 MB/s \n",
            "\u001b[?25hRequirement already satisfied: typing-extensions>=3.7.4.3 in /usr/local/lib/python3.7/dist-packages (from GitPython>=1.0.0->wandb) (3.10.0.2)\n",
            "Collecting smmap<6,>=3.0.1\n",
            "  Downloading smmap-5.0.0-py3-none-any.whl (24 kB)\n",
            "Requirement already satisfied: idna<3,>=2.5 in /usr/local/lib/python3.7/dist-packages (from requests<3,>=2.0.0->wandb) (2.10)\n",
            "Requirement already satisfied: chardet<4,>=3.0.2 in /usr/local/lib/python3.7/dist-packages (from requests<3,>=2.0.0->wandb) (3.0.4)\n",
            "Requirement already satisfied: urllib3!=1.25.0,!=1.25.1,<1.26,>=1.21.1 in /usr/local/lib/python3.7/dist-packages (from requests<3,>=2.0.0->wandb) (1.24.3)\n",
            "Requirement already satisfied: certifi>=2017.4.17 in /usr/local/lib/python3.7/dist-packages (from requests<3,>=2.0.0->wandb) (2021.10.8)\n",
            "Requirement already satisfied: termcolor<2.0.0,>=1.1.0 in /usr/local/lib/python3.7/dist-packages (from yaspin>=1.0.0->wandb) (1.1.0)\n",
            "Building wheels for collected packages: pathtools\n",
            "  Building wheel for pathtools (setup.py) ... \u001b[?25l\u001b[?25hdone\n",
            "  Created wheel for pathtools: filename=pathtools-0.1.2-py3-none-any.whl size=8806 sha256=46096b027f5837ef44b22ed5fc643d873f76deb2c1b9672e4ddac067fa3dfbc6\n",
            "  Stored in directory: /root/.cache/pip/wheels/3e/31/09/fa59cef12cdcfecc627b3d24273699f390e71828921b2cbba2\n",
            "Successfully built pathtools\n",
            "Installing collected packages: smmap, gitdb, yaspin, shortuuid, sentry-sdk, pathtools, GitPython, docker-pycreds, wandb\n",
            "Successfully installed GitPython-3.1.26 docker-pycreds-0.4.0 gitdb-4.0.9 pathtools-0.1.2 sentry-sdk-1.5.5 shortuuid-1.0.8 smmap-5.0.0 wandb-0.12.10 yaspin-2.1.0\n"
          ]
        }
      ],
      "source": [
        "!pip install wandb"
      ]
    },
    {
      "cell_type": "code",
      "execution_count": null,
      "metadata": {
        "id": "YbW7eHyyHnnS"
      },
      "outputs": [],
      "source": [
        "import wandb\n"
      ]
    },
    {
      "cell_type": "code",
      "execution_count": null,
      "metadata": {
        "id": "GD4hegyYNeoo"
      },
      "outputs": [],
      "source": [
        "import numpy as np\n",
        "from PIL import Image, ImageDraw \n",
        "import PIL\n",
        "from matplotlib.pyplot import imshow"
      ]
    },
    {
      "cell_type": "code",
      "execution_count": null,
      "metadata": {
        "id": "pMCAdgq41Xyw"
      },
      "outputs": [],
      "source": [
        "import os"
      ]
    },
    {
      "cell_type": "code",
      "execution_count": null,
      "metadata": {
        "id": "hZxkeeioNsUs"
      },
      "outputs": [],
      "source": [
        "def get_parents(ip_seed):\n",
        "    np.random.seed(ip_seed)\n",
        "    rect_shape = list(np.random.randint(10, 900, size =2))\n",
        "    ellipse_shape = list(np.random.randint(10, 900, size =2))\n",
        "    theta = list(np.random.randint(0,361, size =2))\n",
        "    return rect_shape, ellipse_shape, theta "
      ]
    },
    {
      "cell_type": "code",
      "execution_count": null,
      "metadata": {
        "id": "q00uAWzZN0bs"
      },
      "outputs": [],
      "source": [
        "def img_with_theta(x,y, theta):\n",
        "  rect_shape, ellipse_shape, theta = x, y, theta\n",
        "  img_size = 1000\n",
        "  img_centre = img_size / 2\n",
        "  img_theta = PIL.Image.new(mode=\"RGBA\", size=(img_size, img_size), color = \"green\")\n",
        "  rect_canvas = PIL.Image.new(\"RGBA\", (1000, 1000), (0, 0, 0, 0))\n",
        "  ell_canvas = PIL.Image.new(\"RGBA\", (1000,1000), (0, 0, 0, 0))\n",
        "  draw = ImageDraw.Draw(img_theta)\n",
        "  draw_rect = ImageDraw.Draw(rect_canvas)\n",
        "  draw_ell = ImageDraw.Draw(ell_canvas)\n",
        "\n",
        "  rect_x1 = img_centre-(0.5*(rect_shape[0]))\n",
        "  rect_y1 = img_centre-(0.5*(rect_shape[1]))\n",
        "\n",
        "  rect_x2 = img_centre+(0.5*(rect_shape[0]))\n",
        "  rect_y2 = img_centre+(0.5*(rect_shape[1]))\n",
        "\n",
        "  ellipse_x1 = img_centre-(0.5*(ellipse_shape[0]))\n",
        "  ellipse_y1 = img_centre-(0.5*(ellipse_shape[1]))\n",
        "\n",
        "  ellipse_x2 = img_centre+(0.5*(ellipse_shape[0]))\n",
        "  ellipse_y2 = img_centre+(0.5*(ellipse_shape[1]))\n",
        "\n",
        "  draw_rect.rectangle(((rect_x1, rect_y1), (rect_x2, rect_y2)), fill = \"black\")\n",
        "  draw_ell.ellipse(((ellipse_x1, ellipse_y1), (ellipse_x2, ellipse_y2)), fill = \"white\")\n",
        "\n",
        "  rect_canvas = rect_canvas.rotate(theta[0])\n",
        "  ell_canvas = ell_canvas.rotate(theta[1])\n",
        "  \n",
        "  rect_canvas.alpha_composite(ell_canvas)\n",
        "  img_theta.alpha_composite(rect_canvas)\n",
        "  return img_theta"
      ]
    },
    {
      "cell_type": "code",
      "execution_count": null,
      "metadata": {
        "id": "Q8NamlrgN3dB"
      },
      "outputs": [],
      "source": [
        "def cal_loss(img):\n",
        "    im = img.load()\n",
        "    black = 0\n",
        "    white = 0\n",
        "    for x in range(0,1000):\n",
        "        for y in range(0,1000):\n",
        "            if im[x,y]==(0,0,0,255):\n",
        "                black +=1\n",
        "            elif im[x,y]==(255,255,255,255):\n",
        "                white +=1\n",
        "    try:\n",
        "      loss = (1-white/black)**2\n",
        "    except:\n",
        "      loss = (1-white)**2\n",
        "    return loss"
      ]
    },
    {
      "cell_type": "code",
      "execution_count": null,
      "metadata": {
        "id": "qXH4aOCgN6cG"
      },
      "outputs": [],
      "source": [
        "def mutate_parents(parent_1, parent_2, number_of_children):\n",
        "    list_of_mutated_children = [parent_1, parent_2]\n",
        "    for i in range(0,number_of_children):\n",
        "        np.random.seed()\n",
        "        binary_mask_1 = np.random.randint(0,2,size=np.array(parent_1).shape)\n",
        "        binary_mask_2 = np.logical_not(binary_mask_1)\n",
        "        new_child = np.add(np.multiply(binary_mask_1,parent_1),np.multiply(binary_mask_2,parent_2))\n",
        "        new_child = new_child.tolist()\n",
        "        list_of_mutated_children.append(new_child)\n",
        "    return list_of_mutated_children"
      ]
    },
    {
      "cell_type": "code",
      "execution_count": null,
      "metadata": {
        "id": "rXqIpQ8pGmx6"
      },
      "outputs": [],
      "source": [
        "def top_two(loss_list):\n",
        "  x = loss_list\n",
        "  y = np.argsort(x)\n",
        "  return y[0], y[1]"
      ]
    },
    {
      "cell_type": "code",
      "execution_count": null,
      "metadata": {
        "colab": {
          "base_uri": "https://localhost:8080/",
          "height": 476
        },
        "id": "YWxoxi-yN-vI",
        "outputId": "bbf0d893-ceb2-477e-bca3-33f393c4accd"
      },
      "outputs": [
        {
          "output_type": "display_data",
          "data": {
            "application/javascript": [
              "\n",
              "        window._wandbApiKey = new Promise((resolve, reject) => {\n",
              "            function loadScript(url) {\n",
              "            return new Promise(function(resolve, reject) {\n",
              "                let newScript = document.createElement(\"script\");\n",
              "                newScript.onerror = reject;\n",
              "                newScript.onload = resolve;\n",
              "                document.body.appendChild(newScript);\n",
              "                newScript.src = url;\n",
              "            });\n",
              "            }\n",
              "            loadScript(\"https://cdn.jsdelivr.net/npm/postmate/build/postmate.min.js\").then(() => {\n",
              "            const iframe = document.createElement('iframe')\n",
              "            iframe.style.cssText = \"width:0;height:0;border:none\"\n",
              "            document.body.appendChild(iframe)\n",
              "            const handshake = new Postmate({\n",
              "                container: iframe,\n",
              "                url: 'https://wandb.ai/authorize'\n",
              "            });\n",
              "            const timeout = setTimeout(() => reject(\"Couldn't auto authenticate\"), 5000)\n",
              "            handshake.then(function(child) {\n",
              "                child.on('authorize', data => {\n",
              "                    clearTimeout(timeout)\n",
              "                    resolve(data)\n",
              "                });\n",
              "            });\n",
              "            })\n",
              "        });\n",
              "    "
            ],
            "text/plain": [
              "<IPython.core.display.Javascript object>"
            ]
          },
          "metadata": {}
        },
        {
          "output_type": "stream",
          "name": "stderr",
          "text": [
            "\u001b[34m\u001b[1mwandb\u001b[0m: You can find your API key in your browser here: https://wandb.ai/authorize\n"
          ]
        },
        {
          "name": "stdout",
          "output_type": "stream",
          "text": [
            "wandb: Paste an API key from your profile and hit enter, or press ctrl+c to quit: ··········\n"
          ]
        },
        {
          "output_type": "stream",
          "name": "stderr",
          "text": [
            "\u001b[34m\u001b[1mwandb\u001b[0m: Appending key for api.wandb.ai to your netrc file: /root/.netrc\n"
          ]
        },
        {
          "output_type": "display_data",
          "data": {
            "text/html": [
              "\n",
              "                    Syncing run <strong><a href=\"https://wandb.ai/kritisinghh21/GA%20with%20Theta2/runs/3ek8g17k\" target=\"_blank\">faithful-pyramid-52</a></strong> to <a href=\"https://wandb.ai/kritisinghh21/GA%20with%20Theta2\" target=\"_blank\">Weights & Biases</a> (<a href=\"https://docs.wandb.com/integrations/jupyter.html\" target=\"_blank\">docs</a>).<br/>\n",
              "\n",
              "                "
            ],
            "text/plain": [
              "<IPython.core.display.HTML object>"
            ]
          },
          "metadata": {}
        },
        {
          "output_type": "stream",
          "name": "stdout",
          "text": [
            "Number of iterations completed: 2\n",
            "Threshold reached\n",
            "List of loss: [0.6867304878398793, 0.0013421889328426256]\n",
            "Process completed in iterations:  2\n",
            "Current loss is: 0.0013421889328426256\n",
            "Threshold is 0.01\n",
            "[229, 447] [836, 91] [150, 264]\n"
          ]
        },
        {
          "output_type": "display_data",
          "data": {
            "image/png": "[encoded data removed]",
            "text/plain": [
              "<Figure size 432x288 with 1 Axes>"
            ]
          },
          "metadata": {
            "needs_background": "light"
          }
        }
      ],
      "source": [
        "wandb.init(project=\"GA with Theta2\")\n",
        "number_of_iterations = 1\n",
        "#declare 10 parents here and use them to get 10 initial images\n",
        "parent_list = []\n",
        "img_list = []\n",
        "loss_list = []\n",
        "x = 456\n",
        "y = 466\n",
        "threshold = 1.00E-02\n",
        "for i in range(x,y):\n",
        "    temp = get_parents(i)\n",
        "    temp_img = img_with_theta(temp[0],temp[1],temp[2])\n",
        "    parent_list.append(temp)\n",
        "    img_list.append(temp_img)\n",
        "    l = cal_loss(temp_img)\n",
        "    loss_list.append(l)\n",
        "a, b = top_two(loss_list)\n",
        "loss_least = loss_list[a]\n",
        "wandb.log({\"Current Loss\":loss_least})\n",
        "curr_dir = \"/content/drive/MyDrive/LENS/GA Images/\"+str(x) + str(y)+\"/\"+str(threshold)+\"-threshold\"\n",
        "os.makedirs(curr_dir)\n",
        "flag=0\n",
        "loss_least_list = [loss_least]\n",
        "if loss_least<=threshold:\n",
        "  imgname = \"/content/drive/MyDrive/LENS/GA Images/\" +str(x) + str(y)+\"/\"+str(threshold)+\"-threshold/\"+str(number_of_iterations)+\".png\"\n",
        "  img = img_list[a]\n",
        "  img.save(imgname)\n",
        "  flag=1\n",
        "while(flag==0):\n",
        "    img_list_new = []\n",
        "    loss_list_new = []\n",
        "    parent_list = mutate_parents(parent_list[a], parent_list[b], 100)\n",
        "    for i in parent_list:\n",
        "      img_list_new.append(img_with_theta(i[0],i[1],i[2]))\n",
        "    for i in img_list_new:\n",
        "      loss_list_new.append(cal_loss(i))\n",
        "    a, b = top_two(loss_list_new)\n",
        "    loss_least = loss_list_new[a]\n",
        "    loss_least_list.append(loss_least)\n",
        "    wandb.log({\"Current Loss\":loss_least})\n",
        "    img = img_with_theta(parent_list[a][0], parent_list[a][1], parent_list[a][2])\n",
        "    wandb.log({\"Image\": [wandb.Image(img)]})\n",
        "    imgname = \"/content/drive/MyDrive/LENS/GA Images/\" +str(x) + str(y)+\"/\"+str(threshold)+\"-threshold/\"+str(number_of_iterations)+\".png\"\n",
        "    img.save(imgname)\n",
        "    number_of_iterations = number_of_iterations+1\n",
        "    print(\"Number of iterations completed:\",number_of_iterations)\n",
        "    if loss_least<=threshold:\n",
        "      flag=1\n",
        "      print(\"Threshold reached\")\n",
        "      print(\"List of loss:\",loss_least_list)\n",
        "      break\n",
        "    if loss_least==loss_least_list[-2]:\n",
        "      flag=1\n",
        "      print(\"Loss not decreasing, training stopped\")\n",
        "      print(\"List of loss:\",loss_least_list)\n",
        "      break\n",
        "print(\"Process completed in iterations: \",number_of_iterations)\n",
        "print(\"Current loss is:\",loss_least)\n",
        "print(\"Threshold is\", threshold)\n",
        "imshow(img_with_theta(parent_list[a][0], parent_list[a][1], parent_list[a][2]))\n",
        "imshow(img_with_theta(parent_list[b][0], parent_list[b][1], parent_list[b][2]))\n",
        "print(parent_list[b][0], parent_list[b][1], parent_list[b][2])"
      ]
    },
    {
      "cell_type": "code",
      "execution_count": null,
      "metadata": {
        "id": "xNuEVzs4MPLe"
      },
      "outputs": [],
      "source": []
    }
  ],
  "metadata": {
    "colab": {
      "provenance": []
    },
    "kernelspec": {
      "display_name": "Python 3",
      "name": "python3"
    },
    "language_info": {
      "name": "python"
    }
  },
  "nbformat": 4,
  "nbformat_minor": 0
}